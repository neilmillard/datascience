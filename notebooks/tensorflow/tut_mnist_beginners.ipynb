{
 "cells": [
  {
   "cell_type": "markdown",
   "metadata": {
    "collapsed": true
   },
   "source": [
    "From the tutorial at (https://www.tensorflow.org/tutorials/mnist/beginners/)\n"
   ]
  },
  {
   "cell_type": "code",
   "execution_count": null,
   "metadata": {
    "collapsed": true
   },
   "outputs": [],
   "source": [
    "import tensorflow as tf\n",
    "\n",
    "# create symbol placeholder for input value a vector, None == unlim, 784 is the size of our data\n",
    "x = tf.placeholder(tf.float32, [None, 784])\n",
    "\n",
    "# Now create variables (modifiable tensor that sits in the model) for Weights and Bias\n",
    "# W has shape 784, 10 because we multiply 784 dimensional image vectors\n",
    "# to produce 10-dimensional vectors for evidence\n",
    "W = tf.Variable(tf.zeros([784, 10]))\n",
    "b = tf.Variable(tf.zeros([10]))\n",
    "\n",
    "# and our model\n",
    "y = tf.nn.softmax(tf.matmul(x, W) + b)"
   ]
  }
 ],
 "metadata": {
  "kernelspec": {
   "display_name": "Python 3",
   "language": "python",
   "name": "python3"
  },
  "language_info": {
   "codemirror_mode": {
    "name": "ipython",
    "version": 3.0
   },
   "file_extension": ".py",
   "mimetype": "text/x-python",
   "name": "python",
   "nbconvert_exporter": "python",
   "pygments_lexer": "ipython3",
   "version": "3.4.3"
  }
 },
 "nbformat": 4,
 "nbformat_minor": 0
}